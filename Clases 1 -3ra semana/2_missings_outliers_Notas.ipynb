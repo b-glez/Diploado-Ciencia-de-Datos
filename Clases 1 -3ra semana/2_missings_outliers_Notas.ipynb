{
 "cells": [
  {
   "cell_type": "markdown",
   "metadata": {},
   "source": [
    "## Librerias"
   ]
  },
  {
   "cell_type": "code",
   "execution_count": 40,
   "metadata": {},
   "outputs": [],
   "source": [
    "import pandas as pd\n",
    "import numpy as np # Su principal función es proporcionar estructuras de datos eficientes, especialmente matrices multidimensionales (arrays)"
   ]
  },
  {
   "cell_type": "markdown",
   "metadata": {},
   "source": [
    "## Missings"
   ]
  },
  {
   "cell_type": "markdown",
   "metadata": {},
   "source": [
    "### Creación del conjunto de Datos"
   ]
  },
  {
   "cell_type": "code",
   "execution_count": 41,
   "metadata": {},
   "outputs": [],
   "source": [
    "num_registros = 10000 "
   ]
  },
  {
   "cell_type": "code",
   "execution_count": 42,
   "metadata": {},
   "outputs": [],
   "source": [
    "#Recordar que esto no es pandas \n",
    "datos_continuos = np.random.rand(num_registros, 5)  # 5 para especificar cuantas columnas. Acá crea datos continuos.\n",
    "#Es decir, pone 10,000 numeros randoms, repartidos en 5 columnas\n"
   ]
  },
  {
   "cell_type": "code",
   "execution_count": 43,
   "metadata": {},
   "outputs": [],
   "source": [
    "discretos = ['col_A','col_B','col_C','col_D','col_E'] #Acá crea los discretos\n",
    "datos_discretos = np.random.choice(discretos, size = (num_registros, 5))  #Choice coloca registros de forma aleatoria a partir de la lista que le pases"
   ]
  },
  {
   "cell_type": "markdown",
   "metadata": {},
   "source": [
    "##### Ahora sí creamos nuestro Data Frame con Pandas"
   ]
  },
  {
   "cell_type": "code",
   "execution_count": 44,
   "metadata": {},
   "outputs": [
    {
     "data": {
      "text/html": [
       "<div>\n",
       "<style scoped>\n",
       "    .dataframe tbody tr th:only-of-type {\n",
       "        vertical-align: middle;\n",
       "    }\n",
       "\n",
       "    .dataframe tbody tr th {\n",
       "        vertical-align: top;\n",
       "    }\n",
       "\n",
       "    .dataframe thead th {\n",
       "        text-align: right;\n",
       "    }\n",
       "</style>\n",
       "<table border=\"1\" class=\"dataframe\">\n",
       "  <thead>\n",
       "    <tr style=\"text-align: right;\">\n",
       "      <th></th>\n",
       "      <th>Continua_1</th>\n",
       "      <th>Continua_2</th>\n",
       "      <th>Continua_3</th>\n",
       "      <th>Continua_4</th>\n",
       "      <th>Continua_5</th>\n",
       "    </tr>\n",
       "  </thead>\n",
       "  <tbody>\n",
       "    <tr>\n",
       "      <th>0</th>\n",
       "      <td>0.775351</td>\n",
       "      <td>0.601312</td>\n",
       "      <td>0.696428</td>\n",
       "      <td>0.481936</td>\n",
       "      <td>0.974293</td>\n",
       "    </tr>\n",
       "    <tr>\n",
       "      <th>1</th>\n",
       "      <td>0.483453</td>\n",
       "      <td>0.968316</td>\n",
       "      <td>0.714703</td>\n",
       "      <td>0.139930</td>\n",
       "      <td>0.048719</td>\n",
       "    </tr>\n",
       "    <tr>\n",
       "      <th>2</th>\n",
       "      <td>0.860112</td>\n",
       "      <td>0.764891</td>\n",
       "      <td>0.994033</td>\n",
       "      <td>0.539445</td>\n",
       "      <td>0.090201</td>\n",
       "    </tr>\n",
       "    <tr>\n",
       "      <th>3</th>\n",
       "      <td>0.337770</td>\n",
       "      <td>0.329701</td>\n",
       "      <td>0.758832</td>\n",
       "      <td>0.543987</td>\n",
       "      <td>0.486430</td>\n",
       "    </tr>\n",
       "    <tr>\n",
       "      <th>4</th>\n",
       "      <td>0.224232</td>\n",
       "      <td>0.360616</td>\n",
       "      <td>0.505673</td>\n",
       "      <td>0.853464</td>\n",
       "      <td>0.883142</td>\n",
       "    </tr>\n",
       "    <tr>\n",
       "      <th>...</th>\n",
       "      <td>...</td>\n",
       "      <td>...</td>\n",
       "      <td>...</td>\n",
       "      <td>...</td>\n",
       "      <td>...</td>\n",
       "    </tr>\n",
       "    <tr>\n",
       "      <th>9995</th>\n",
       "      <td>0.098621</td>\n",
       "      <td>0.676660</td>\n",
       "      <td>0.820030</td>\n",
       "      <td>0.209173</td>\n",
       "      <td>0.509854</td>\n",
       "    </tr>\n",
       "    <tr>\n",
       "      <th>9996</th>\n",
       "      <td>0.491042</td>\n",
       "      <td>0.421315</td>\n",
       "      <td>0.566735</td>\n",
       "      <td>0.541974</td>\n",
       "      <td>0.896921</td>\n",
       "    </tr>\n",
       "    <tr>\n",
       "      <th>9997</th>\n",
       "      <td>0.807406</td>\n",
       "      <td>0.784217</td>\n",
       "      <td>0.460938</td>\n",
       "      <td>0.376140</td>\n",
       "      <td>0.937784</td>\n",
       "    </tr>\n",
       "    <tr>\n",
       "      <th>9998</th>\n",
       "      <td>0.672348</td>\n",
       "      <td>0.521136</td>\n",
       "      <td>0.079612</td>\n",
       "      <td>0.279766</td>\n",
       "      <td>0.272760</td>\n",
       "    </tr>\n",
       "    <tr>\n",
       "      <th>9999</th>\n",
       "      <td>0.344566</td>\n",
       "      <td>0.378606</td>\n",
       "      <td>0.076715</td>\n",
       "      <td>0.088119</td>\n",
       "      <td>0.790499</td>\n",
       "    </tr>\n",
       "  </tbody>\n",
       "</table>\n",
       "<p>10000 rows × 5 columns</p>\n",
       "</div>"
      ],
      "text/plain": [
       "      Continua_1  Continua_2  Continua_3  Continua_4  Continua_5\n",
       "0       0.775351    0.601312    0.696428    0.481936    0.974293\n",
       "1       0.483453    0.968316    0.714703    0.139930    0.048719\n",
       "2       0.860112    0.764891    0.994033    0.539445    0.090201\n",
       "3       0.337770    0.329701    0.758832    0.543987    0.486430\n",
       "4       0.224232    0.360616    0.505673    0.853464    0.883142\n",
       "...          ...         ...         ...         ...         ...\n",
       "9995    0.098621    0.676660    0.820030    0.209173    0.509854\n",
       "9996    0.491042    0.421315    0.566735    0.541974    0.896921\n",
       "9997    0.807406    0.784217    0.460938    0.376140    0.937784\n",
       "9998    0.672348    0.521136    0.079612    0.279766    0.272760\n",
       "9999    0.344566    0.378606    0.076715    0.088119    0.790499\n",
       "\n",
       "[10000 rows x 5 columns]"
      ]
     },
     "execution_count": 44,
     "metadata": {},
     "output_type": "execute_result"
    }
   ],
   "source": [
    "#acá no explicó bien qué hizo \n",
    "df = pd.DataFrame(datos_continuos, columns = [f'Continua_{i+1}' for i in range(5)])  #este combo de f creo se llama fstring, columns es para nombrarlas columnas\n",
    "df"
   ]
  },
  {
   "cell_type": "code",
   "execution_count": 45,
   "metadata": {},
   "outputs": [],
   "source": [
    "for i in range(5):\n",
    "    df[f'Discreta_{i+1}'] = datos_discretos[:,i] # acá agrega 5 columnas discretas (el for es para no hacer 5 veces manual)"
   ]
  },
  {
   "cell_type": "code",
   "execution_count": 46,
   "metadata": {},
   "outputs": [
    {
     "data": {
      "text/html": [
       "<div>\n",
       "<style scoped>\n",
       "    .dataframe tbody tr th:only-of-type {\n",
       "        vertical-align: middle;\n",
       "    }\n",
       "\n",
       "    .dataframe tbody tr th {\n",
       "        vertical-align: top;\n",
       "    }\n",
       "\n",
       "    .dataframe thead th {\n",
       "        text-align: right;\n",
       "    }\n",
       "</style>\n",
       "<table border=\"1\" class=\"dataframe\">\n",
       "  <thead>\n",
       "    <tr style=\"text-align: right;\">\n",
       "      <th></th>\n",
       "      <th>Continua_1</th>\n",
       "      <th>Continua_2</th>\n",
       "      <th>Continua_3</th>\n",
       "      <th>Continua_4</th>\n",
       "      <th>Continua_5</th>\n",
       "      <th>Discreta_1</th>\n",
       "      <th>Discreta_2</th>\n",
       "      <th>Discreta_3</th>\n",
       "      <th>Discreta_4</th>\n",
       "      <th>Discreta_5</th>\n",
       "    </tr>\n",
       "  </thead>\n",
       "  <tbody>\n",
       "    <tr>\n",
       "      <th>0</th>\n",
       "      <td>0.775351</td>\n",
       "      <td>0.601312</td>\n",
       "      <td>0.696428</td>\n",
       "      <td>0.481936</td>\n",
       "      <td>0.974293</td>\n",
       "      <td>col_C</td>\n",
       "      <td>col_C</td>\n",
       "      <td>col_A</td>\n",
       "      <td>col_B</td>\n",
       "      <td>col_C</td>\n",
       "    </tr>\n",
       "    <tr>\n",
       "      <th>1</th>\n",
       "      <td>0.483453</td>\n",
       "      <td>0.968316</td>\n",
       "      <td>0.714703</td>\n",
       "      <td>0.139930</td>\n",
       "      <td>0.048719</td>\n",
       "      <td>col_B</td>\n",
       "      <td>col_E</td>\n",
       "      <td>col_E</td>\n",
       "      <td>col_A</td>\n",
       "      <td>col_A</td>\n",
       "    </tr>\n",
       "    <tr>\n",
       "      <th>2</th>\n",
       "      <td>0.860112</td>\n",
       "      <td>0.764891</td>\n",
       "      <td>0.994033</td>\n",
       "      <td>0.539445</td>\n",
       "      <td>0.090201</td>\n",
       "      <td>col_A</td>\n",
       "      <td>col_A</td>\n",
       "      <td>col_E</td>\n",
       "      <td>col_E</td>\n",
       "      <td>col_E</td>\n",
       "    </tr>\n",
       "    <tr>\n",
       "      <th>3</th>\n",
       "      <td>0.337770</td>\n",
       "      <td>0.329701</td>\n",
       "      <td>0.758832</td>\n",
       "      <td>0.543987</td>\n",
       "      <td>0.486430</td>\n",
       "      <td>col_B</td>\n",
       "      <td>col_A</td>\n",
       "      <td>col_C</td>\n",
       "      <td>col_E</td>\n",
       "      <td>col_D</td>\n",
       "    </tr>\n",
       "    <tr>\n",
       "      <th>4</th>\n",
       "      <td>0.224232</td>\n",
       "      <td>0.360616</td>\n",
       "      <td>0.505673</td>\n",
       "      <td>0.853464</td>\n",
       "      <td>0.883142</td>\n",
       "      <td>col_A</td>\n",
       "      <td>col_A</td>\n",
       "      <td>col_B</td>\n",
       "      <td>col_D</td>\n",
       "      <td>col_D</td>\n",
       "    </tr>\n",
       "    <tr>\n",
       "      <th>...</th>\n",
       "      <td>...</td>\n",
       "      <td>...</td>\n",
       "      <td>...</td>\n",
       "      <td>...</td>\n",
       "      <td>...</td>\n",
       "      <td>...</td>\n",
       "      <td>...</td>\n",
       "      <td>...</td>\n",
       "      <td>...</td>\n",
       "      <td>...</td>\n",
       "    </tr>\n",
       "    <tr>\n",
       "      <th>9995</th>\n",
       "      <td>0.098621</td>\n",
       "      <td>0.676660</td>\n",
       "      <td>0.820030</td>\n",
       "      <td>0.209173</td>\n",
       "      <td>0.509854</td>\n",
       "      <td>col_E</td>\n",
       "      <td>col_B</td>\n",
       "      <td>col_D</td>\n",
       "      <td>col_D</td>\n",
       "      <td>col_D</td>\n",
       "    </tr>\n",
       "    <tr>\n",
       "      <th>9996</th>\n",
       "      <td>0.491042</td>\n",
       "      <td>0.421315</td>\n",
       "      <td>0.566735</td>\n",
       "      <td>0.541974</td>\n",
       "      <td>0.896921</td>\n",
       "      <td>col_E</td>\n",
       "      <td>col_C</td>\n",
       "      <td>col_A</td>\n",
       "      <td>col_A</td>\n",
       "      <td>col_B</td>\n",
       "    </tr>\n",
       "    <tr>\n",
       "      <th>9997</th>\n",
       "      <td>0.807406</td>\n",
       "      <td>0.784217</td>\n",
       "      <td>0.460938</td>\n",
       "      <td>0.376140</td>\n",
       "      <td>0.937784</td>\n",
       "      <td>col_D</td>\n",
       "      <td>col_A</td>\n",
       "      <td>col_A</td>\n",
       "      <td>col_B</td>\n",
       "      <td>col_C</td>\n",
       "    </tr>\n",
       "    <tr>\n",
       "      <th>9998</th>\n",
       "      <td>0.672348</td>\n",
       "      <td>0.521136</td>\n",
       "      <td>0.079612</td>\n",
       "      <td>0.279766</td>\n",
       "      <td>0.272760</td>\n",
       "      <td>col_E</td>\n",
       "      <td>col_D</td>\n",
       "      <td>col_B</td>\n",
       "      <td>col_D</td>\n",
       "      <td>col_C</td>\n",
       "    </tr>\n",
       "    <tr>\n",
       "      <th>9999</th>\n",
       "      <td>0.344566</td>\n",
       "      <td>0.378606</td>\n",
       "      <td>0.076715</td>\n",
       "      <td>0.088119</td>\n",
       "      <td>0.790499</td>\n",
       "      <td>col_A</td>\n",
       "      <td>col_D</td>\n",
       "      <td>col_C</td>\n",
       "      <td>col_B</td>\n",
       "      <td>col_C</td>\n",
       "    </tr>\n",
       "  </tbody>\n",
       "</table>\n",
       "<p>10000 rows × 10 columns</p>\n",
       "</div>"
      ],
      "text/plain": [
       "      Continua_1  Continua_2  Continua_3  Continua_4  Continua_5 Discreta_1  \\\n",
       "0       0.775351    0.601312    0.696428    0.481936    0.974293      col_C   \n",
       "1       0.483453    0.968316    0.714703    0.139930    0.048719      col_B   \n",
       "2       0.860112    0.764891    0.994033    0.539445    0.090201      col_A   \n",
       "3       0.337770    0.329701    0.758832    0.543987    0.486430      col_B   \n",
       "4       0.224232    0.360616    0.505673    0.853464    0.883142      col_A   \n",
       "...          ...         ...         ...         ...         ...        ...   \n",
       "9995    0.098621    0.676660    0.820030    0.209173    0.509854      col_E   \n",
       "9996    0.491042    0.421315    0.566735    0.541974    0.896921      col_E   \n",
       "9997    0.807406    0.784217    0.460938    0.376140    0.937784      col_D   \n",
       "9998    0.672348    0.521136    0.079612    0.279766    0.272760      col_E   \n",
       "9999    0.344566    0.378606    0.076715    0.088119    0.790499      col_A   \n",
       "\n",
       "     Discreta_2 Discreta_3 Discreta_4 Discreta_5  \n",
       "0         col_C      col_A      col_B      col_C  \n",
       "1         col_E      col_E      col_A      col_A  \n",
       "2         col_A      col_E      col_E      col_E  \n",
       "3         col_A      col_C      col_E      col_D  \n",
       "4         col_A      col_B      col_D      col_D  \n",
       "...         ...        ...        ...        ...  \n",
       "9995      col_B      col_D      col_D      col_D  \n",
       "9996      col_C      col_A      col_A      col_B  \n",
       "9997      col_A      col_A      col_B      col_C  \n",
       "9998      col_D      col_B      col_D      col_C  \n",
       "9999      col_D      col_C      col_B      col_C  \n",
       "\n",
       "[10000 rows x 10 columns]"
      ]
     },
     "execution_count": 46,
     "metadata": {},
     "output_type": "execute_result"
    }
   ],
   "source": [
    "df"
   ]
  },
  {
   "cell_type": "markdown",
   "metadata": {},
   "source": [
    "### Introducimos valores nulos de forma aleatoria para DF"
   ]
  },
  {
   "cell_type": "code",
   "execution_count": 47,
   "metadata": {},
   "outputs": [],
   "source": [
    "#Definimos el % de nulos que vamos a meter\n",
    "porcentaje_nulos = 0.2 #20% de nulos"
   ]
  },
  {
   "cell_type": "code",
   "execution_count": 48,
   "metadata": {},
   "outputs": [],
   "source": [
    "#primero definimos la cantidad\n",
    "total_nulos_continuos = int(np.floor(porcentaje_nulos * num_registros*5)) #5 por las columnas\n",
    "total_nulos_discretos = int(np.floor(porcentaje_nulos * num_registros*5)) "
   ]
  },
  {
   "cell_type": "markdown",
   "metadata": {},
   "source": [
    "#### Literal es crear los valores aleatorios para las columnas continuas"
   ]
  },
  {
   "cell_type": "code",
   "execution_count": 49,
   "metadata": {},
   "outputs": [],
   "source": [
    "# Ahora empezamos con los valores nulos continuos\n",
    "\n",
    "indice_filas_cont = np.random.randint(0, df.shape[0], total_nulos_continuos ) # function in NumPy used to generate random integers from a \"discrete uniform\" distribution within a specified range.\n",
    "# numpy.random.randint(low, high=None, size=None, dtype='l') # shape es el max de columnas\n",
    "indice_columnas_cont = np.random.randint(0, int(df.shape[1]/2), total_nulos_continuos ) #este va de col 1 a 5"
   ]
  },
  {
   "cell_type": "code",
   "execution_count": 50,
   "metadata": {},
   "outputs": [],
   "source": [
    "#Para Discretas\n",
    "indice_filas_dist = np.random.randint(0, df.shape[0], total_nulos_discretos )\n",
    "indice_columnas_dist = np.random.randint(int(df.shape[1]/2), df.shape[1], total_nulos_discretos ) #este debe de ir del 6 al 10"
   ]
  },
  {
   "cell_type": "code",
   "execution_count": 51,
   "metadata": {},
   "outputs": [
    {
     "data": {
      "text/plain": [
       "10000"
      ]
     },
     "execution_count": 51,
     "metadata": {},
     "output_type": "execute_result"
    }
   ],
   "source": [
    "df.shape[0] #Esta fn es para ver el primer y ultimo indice o algo así"
   ]
  },
  {
   "cell_type": "code",
   "execution_count": 52,
   "metadata": {},
   "outputs": [
    {
     "data": {
      "text/plain": [
       "10000"
      ]
     },
     "execution_count": 52,
     "metadata": {},
     "output_type": "execute_result"
    }
   ],
   "source": [
    "total_nulos_continuos"
   ]
  },
  {
   "cell_type": "code",
   "execution_count": 53,
   "metadata": {},
   "outputs": [],
   "source": [
    "# Introducimos valores NaN para columnas continuas\n",
    "# Esta funcion (iat) es parecida al randint. Le vamos a pasar el indice \n",
    "for i in range(total_nulos_continuos):\n",
    "    df.iat[indice_filas_cont[i], indice_columnas_cont[i]] = np.nan\n",
    "\n",
    "#Con esto ya agrego los nulos en las continuas"
   ]
  },
  {
   "cell_type": "code",
   "execution_count": 54,
   "metadata": {},
   "outputs": [
    {
     "data": {
      "text/plain": [
       "Continua_1    1802\n",
       "Continua_2    1836\n",
       "Continua_3    1830\n",
       "Continua_4    1811\n",
       "Continua_5    1793\n",
       "Discreta_1       0\n",
       "Discreta_2       0\n",
       "Discreta_3       0\n",
       "Discreta_4       0\n",
       "Discreta_5       0\n",
       "dtype: int64"
      ]
     },
     "execution_count": 54,
     "metadata": {},
     "output_type": "execute_result"
    }
   ],
   "source": [
    "#Para contar los nulos\n",
    "df.isnull().sum()"
   ]
  },
  {
   "cell_type": "code",
   "execution_count": 55,
   "metadata": {},
   "outputs": [],
   "source": [
    "#Ahora lo mismo para las discretas\n",
    "for i in range(total_nulos_discretos):\n",
    "    df.iat[indice_filas_dist[i], indice_columnas_dist[i]] = np.nan\n"
   ]
  },
  {
   "cell_type": "code",
   "execution_count": 56,
   "metadata": {},
   "outputs": [
    {
     "data": {
      "text/plain": [
       "Continua_1    1802\n",
       "Continua_2    1836\n",
       "Continua_3    1830\n",
       "Continua_4    1811\n",
       "Continua_5    1793\n",
       "Discreta_1    1834\n",
       "Discreta_2    1872\n",
       "Discreta_3    1804\n",
       "Discreta_4    1765\n",
       "Discreta_5    1786\n",
       "dtype: int64"
      ]
     },
     "execution_count": 56,
     "metadata": {},
     "output_type": "execute_result"
    }
   ],
   "source": [
    "#Para contar los nulos\n",
    "df.isnull().sum()#.sort_values(ascending = False) / df.shape[0]"
   ]
  },
  {
   "cell_type": "markdown",
   "metadata": {},
   "source": [
    "## Imputación de valores nulos con diferentes técnicas "
   ]
  },
  {
   "cell_type": "code",
   "execution_count": 57,
   "metadata": {},
   "outputs": [],
   "source": [
    "from sklearn.impute import SimpleImputer #Solo se pueden imputar continuos"
   ]
  },
  {
   "cell_type": "code",
   "execution_count": 58,
   "metadata": {},
   "outputs": [],
   "source": [
    "imputador_media = SimpleImputer(strategy='mean') #Vamos a imputar con la media"
   ]
  },
  {
   "cell_type": "code",
   "execution_count": 59,
   "metadata": {},
   "outputs": [
    {
     "data": {
      "text/plain": [
       "array([[0.77535059, 0.5024631 , 0.6964283 , 0.48193562, 0.97429286],\n",
       "       [0.50354916, 0.96831572, 0.71470335, 0.13993034, 0.04871882],\n",
       "       [0.86011154, 0.76489107, 0.99403258, 0.53944489, 0.09020133],\n",
       "       ...,\n",
       "       [0.80740623, 0.78421696, 0.46093757, 0.49151392, 0.93778417],\n",
       "       [0.50354916, 0.52113574, 0.07961198, 0.27976559, 0.27276009],\n",
       "       [0.34456629, 0.37860646, 0.49962667, 0.08811909, 0.50240499]],\n",
       "      shape=(10000, 5))"
      ]
     },
     "execution_count": 59,
     "metadata": {},
     "output_type": "execute_result"
    }
   ],
   "source": [
    "#este es el array de imputaciones\n",
    "imputador_media.fit_transform(df[list(df.columns[0:5])]) #el fit transform es para"
   ]
  },
  {
   "cell_type": "code",
   "execution_count": 60,
   "metadata": {},
   "outputs": [],
   "source": [
    "#Acá tal cual es meter los valores que ya vienen imputados\n",
    "df[list(df.columns[:5])] = imputador_media.fit_transform(df[list(df.columns[0:5])]) "
   ]
  },
  {
   "cell_type": "code",
   "execution_count": 61,
   "metadata": {},
   "outputs": [
    {
     "data": {
      "text/plain": [
       "Continua_1       0\n",
       "Continua_2       0\n",
       "Continua_3       0\n",
       "Continua_4       0\n",
       "Continua_5       0\n",
       "Discreta_1    1834\n",
       "Discreta_2    1872\n",
       "Discreta_3    1804\n",
       "Discreta_4    1765\n",
       "Discreta_5    1786\n",
       "dtype: int64"
      ]
     },
     "execution_count": 61,
     "metadata": {},
     "output_type": "execute_result"
    }
   ],
   "source": [
    "df.isnull().sum()"
   ]
  },
  {
   "cell_type": "code",
   "execution_count": 62,
   "metadata": {},
   "outputs": [],
   "source": [
    "imputador_moda = SimpleImputer(strategy='most_frequent') #Vamos a imputar con la media\n",
    "df[list(df.columns[5:])] = imputador_moda.fit_transform(df[list(df.columns[5:])]) # acpa el columns[5:] es lo que determina cuales imputamos"
   ]
  },
  {
   "cell_type": "code",
   "execution_count": 63,
   "metadata": {},
   "outputs": [
    {
     "data": {
      "text/plain": [
       "Continua_1    0\n",
       "Continua_2    0\n",
       "Continua_3    0\n",
       "Continua_4    0\n",
       "Continua_5    0\n",
       "Discreta_1    0\n",
       "Discreta_2    0\n",
       "Discreta_3    0\n",
       "Discreta_4    0\n",
       "Discreta_5    0\n",
       "dtype: int64"
      ]
     },
     "execution_count": 63,
     "metadata": {},
     "output_type": "execute_result"
    }
   ],
   "source": [
    "df.isnull().sum()"
   ]
  },
  {
   "cell_type": "code",
   "execution_count": 64,
   "metadata": {},
   "outputs": [
    {
     "data": {
      "text/html": [
       "<div>\n",
       "<style scoped>\n",
       "    .dataframe tbody tr th:only-of-type {\n",
       "        vertical-align: middle;\n",
       "    }\n",
       "\n",
       "    .dataframe tbody tr th {\n",
       "        vertical-align: top;\n",
       "    }\n",
       "\n",
       "    .dataframe thead th {\n",
       "        text-align: right;\n",
       "    }\n",
       "</style>\n",
       "<table border=\"1\" class=\"dataframe\">\n",
       "  <thead>\n",
       "    <tr style=\"text-align: right;\">\n",
       "      <th></th>\n",
       "      <th>Continua_1</th>\n",
       "      <th>Continua_2</th>\n",
       "      <th>Continua_3</th>\n",
       "      <th>Continua_4</th>\n",
       "      <th>Continua_5</th>\n",
       "      <th>Discreta_1</th>\n",
       "      <th>Discreta_2</th>\n",
       "      <th>Discreta_3</th>\n",
       "      <th>Discreta_4</th>\n",
       "      <th>Discreta_5</th>\n",
       "    </tr>\n",
       "  </thead>\n",
       "  <tbody>\n",
       "    <tr>\n",
       "      <th>0</th>\n",
       "      <td>0.775351</td>\n",
       "      <td>0.502463</td>\n",
       "      <td>0.696428</td>\n",
       "      <td>0.481936</td>\n",
       "      <td>0.974293</td>\n",
       "      <td>col_C</td>\n",
       "      <td>col_C</td>\n",
       "      <td>col_E</td>\n",
       "      <td>col_B</td>\n",
       "      <td>col_C</td>\n",
       "    </tr>\n",
       "    <tr>\n",
       "      <th>1</th>\n",
       "      <td>0.503549</td>\n",
       "      <td>0.968316</td>\n",
       "      <td>0.714703</td>\n",
       "      <td>0.139930</td>\n",
       "      <td>0.048719</td>\n",
       "      <td>col_B</td>\n",
       "      <td>col_E</td>\n",
       "      <td>col_E</td>\n",
       "      <td>col_A</td>\n",
       "      <td>col_A</td>\n",
       "    </tr>\n",
       "    <tr>\n",
       "      <th>2</th>\n",
       "      <td>0.860112</td>\n",
       "      <td>0.764891</td>\n",
       "      <td>0.994033</td>\n",
       "      <td>0.539445</td>\n",
       "      <td>0.090201</td>\n",
       "      <td>col_A</td>\n",
       "      <td>col_A</td>\n",
       "      <td>col_E</td>\n",
       "      <td>col_E</td>\n",
       "      <td>col_E</td>\n",
       "    </tr>\n",
       "    <tr>\n",
       "      <th>3</th>\n",
       "      <td>0.337770</td>\n",
       "      <td>0.329701</td>\n",
       "      <td>0.758832</td>\n",
       "      <td>0.491514</td>\n",
       "      <td>0.486430</td>\n",
       "      <td>col_D</td>\n",
       "      <td>col_A</td>\n",
       "      <td>col_C</td>\n",
       "      <td>col_E</td>\n",
       "      <td>col_D</td>\n",
       "    </tr>\n",
       "    <tr>\n",
       "      <th>4</th>\n",
       "      <td>0.224232</td>\n",
       "      <td>0.502463</td>\n",
       "      <td>0.505673</td>\n",
       "      <td>0.853464</td>\n",
       "      <td>0.502405</td>\n",
       "      <td>col_A</td>\n",
       "      <td>col_A</td>\n",
       "      <td>col_E</td>\n",
       "      <td>col_D</td>\n",
       "      <td>col_D</td>\n",
       "    </tr>\n",
       "    <tr>\n",
       "      <th>...</th>\n",
       "      <td>...</td>\n",
       "      <td>...</td>\n",
       "      <td>...</td>\n",
       "      <td>...</td>\n",
       "      <td>...</td>\n",
       "      <td>...</td>\n",
       "      <td>...</td>\n",
       "      <td>...</td>\n",
       "      <td>...</td>\n",
       "      <td>...</td>\n",
       "    </tr>\n",
       "    <tr>\n",
       "      <th>9995</th>\n",
       "      <td>0.098621</td>\n",
       "      <td>0.676660</td>\n",
       "      <td>0.820030</td>\n",
       "      <td>0.209173</td>\n",
       "      <td>0.509854</td>\n",
       "      <td>col_E</td>\n",
       "      <td>col_A</td>\n",
       "      <td>col_D</td>\n",
       "      <td>col_B</td>\n",
       "      <td>col_D</td>\n",
       "    </tr>\n",
       "    <tr>\n",
       "      <th>9996</th>\n",
       "      <td>0.491042</td>\n",
       "      <td>0.421315</td>\n",
       "      <td>0.566735</td>\n",
       "      <td>0.541974</td>\n",
       "      <td>0.896921</td>\n",
       "      <td>col_E</td>\n",
       "      <td>col_C</td>\n",
       "      <td>col_A</td>\n",
       "      <td>col_A</td>\n",
       "      <td>col_B</td>\n",
       "    </tr>\n",
       "    <tr>\n",
       "      <th>9997</th>\n",
       "      <td>0.807406</td>\n",
       "      <td>0.784217</td>\n",
       "      <td>0.460938</td>\n",
       "      <td>0.491514</td>\n",
       "      <td>0.937784</td>\n",
       "      <td>col_D</td>\n",
       "      <td>col_A</td>\n",
       "      <td>col_A</td>\n",
       "      <td>col_B</td>\n",
       "      <td>col_C</td>\n",
       "    </tr>\n",
       "    <tr>\n",
       "      <th>9998</th>\n",
       "      <td>0.503549</td>\n",
       "      <td>0.521136</td>\n",
       "      <td>0.079612</td>\n",
       "      <td>0.279766</td>\n",
       "      <td>0.272760</td>\n",
       "      <td>col_E</td>\n",
       "      <td>col_D</td>\n",
       "      <td>col_B</td>\n",
       "      <td>col_D</td>\n",
       "      <td>col_C</td>\n",
       "    </tr>\n",
       "    <tr>\n",
       "      <th>9999</th>\n",
       "      <td>0.344566</td>\n",
       "      <td>0.378606</td>\n",
       "      <td>0.499627</td>\n",
       "      <td>0.088119</td>\n",
       "      <td>0.502405</td>\n",
       "      <td>col_A</td>\n",
       "      <td>col_D</td>\n",
       "      <td>col_C</td>\n",
       "      <td>col_B</td>\n",
       "      <td>col_C</td>\n",
       "    </tr>\n",
       "  </tbody>\n",
       "</table>\n",
       "<p>10000 rows × 10 columns</p>\n",
       "</div>"
      ],
      "text/plain": [
       "      Continua_1  Continua_2  Continua_3  Continua_4  Continua_5 Discreta_1  \\\n",
       "0       0.775351    0.502463    0.696428    0.481936    0.974293      col_C   \n",
       "1       0.503549    0.968316    0.714703    0.139930    0.048719      col_B   \n",
       "2       0.860112    0.764891    0.994033    0.539445    0.090201      col_A   \n",
       "3       0.337770    0.329701    0.758832    0.491514    0.486430      col_D   \n",
       "4       0.224232    0.502463    0.505673    0.853464    0.502405      col_A   \n",
       "...          ...         ...         ...         ...         ...        ...   \n",
       "9995    0.098621    0.676660    0.820030    0.209173    0.509854      col_E   \n",
       "9996    0.491042    0.421315    0.566735    0.541974    0.896921      col_E   \n",
       "9997    0.807406    0.784217    0.460938    0.491514    0.937784      col_D   \n",
       "9998    0.503549    0.521136    0.079612    0.279766    0.272760      col_E   \n",
       "9999    0.344566    0.378606    0.499627    0.088119    0.502405      col_A   \n",
       "\n",
       "     Discreta_2 Discreta_3 Discreta_4 Discreta_5  \n",
       "0         col_C      col_E      col_B      col_C  \n",
       "1         col_E      col_E      col_A      col_A  \n",
       "2         col_A      col_E      col_E      col_E  \n",
       "3         col_A      col_C      col_E      col_D  \n",
       "4         col_A      col_E      col_D      col_D  \n",
       "...         ...        ...        ...        ...  \n",
       "9995      col_A      col_D      col_B      col_D  \n",
       "9996      col_C      col_A      col_A      col_B  \n",
       "9997      col_A      col_A      col_B      col_C  \n",
       "9998      col_D      col_B      col_D      col_C  \n",
       "9999      col_D      col_C      col_B      col_C  \n",
       "\n",
       "[10000 rows x 10 columns]"
      ]
     },
     "execution_count": 64,
     "metadata": {},
     "output_type": "execute_result"
    }
   ],
   "source": [
    "df"
   ]
  },
  {
   "cell_type": "markdown",
   "metadata": {},
   "source": [
    "## Outliers | Valores extremos"
   ]
  },
  {
   "cell_type": "markdown",
   "metadata": {},
   "source": [
    "### Univariado"
   ]
  },
  {
   "cell_type": "code",
   "execution_count": 65,
   "metadata": {},
   "outputs": [
    {
     "data": {
      "text/plain": [
       "Index(['Continua_1', 'Continua_2', 'Continua_3', 'Continua_4', 'Continua_5'], dtype='object')"
      ]
     },
     "execution_count": 65,
     "metadata": {},
     "output_type": "execute_result"
    }
   ],
   "source": [
    "## Outliers\n",
    "varc = df.columns[0:5] #variables continuas - Se trae lso nombres nomás\n",
    "varc"
   ]
  },
  {
   "cell_type": "code",
   "execution_count": 86,
   "metadata": {},
   "outputs": [
    {
     "data": {
      "image/png": "[encoded data removed]",
      "text/plain": [
       "<Figure size 1800x2000 with 6 Axes>"
      ]
     },
     "metadata": {},
     "output_type": "display_data"
    }
   ],
   "source": [
    "df[varc].hist( figsize=(18,20)); # acá se ahorra codigo y en una linea saca los 5 histogramas\n",
    "#se ve así raro porque son histogramas no?\n"
   ]
  },
  {
   "cell_type": "markdown",
   "metadata": {},
   "source": [
    "#### Acá el profe generó una dn normal a la que le va a agregar valores extremos"
   ]
  },
  {
   "cell_type": "code",
   "execution_count": 71,
   "metadata": {},
   "outputs": [],
   "source": [
    "np.random.seed(0)\n",
    "\n",
    "data = np.random.normal(loc=0, scale =1, size=(num_registros, int(df.shape[1]/2)))  #el shape es la forma fancy de agarrar la mitad\n",
    "\n",
    "for i in range(data.shape[1]):\n",
    "    #Acá agregamos valores extremos positivos\n",
    "    data[np.random.choice(range(num_registros), size=10, replace=False), i] += np.random.uniform(10,20, size=10)\n",
    "    # Agregando valores extremos negativo\n",
    "    data[np.random.choice(range(num_registros), size=10, replace=False), i] -= np.random.uniform(10,20, size=10)\n",
    "    \n",
    "df2 = pd.DataFrame(data, columns=[f'Continua_{i+1}' for i in range(5)])"
   ]
  },
  {
   "cell_type": "code",
   "execution_count": null,
   "metadata": {},
   "outputs": [
    {
     "data": {
      "text/plain": [
       "array([[<Axes: title={'center': 'Continua_1'}>,\n",
       "        <Axes: title={'center': 'Continua_2'}>],\n",
       "       [<Axes: title={'center': 'Continua_3'}>,\n",
       "        <Axes: title={'center': 'Continua_4'}>],\n",
       "       [<Axes: title={'center': 'Continua_5'}>, <Axes: >]], dtype=object)"
      ]
     },
     "execution_count": 91,
     "metadata": {},
     "output_type": "execute_result"
    },
    {
     "data": {
      "image/png": "[encoded data removed]",
      "text/plain": [
       "<Figure size 1800x2000 with 6 Axes>"
      ]
     },
     "metadata": {},
     "output_type": "display_data"
    }
   ],
   "source": [
    "#acá para ver la normal\n",
    "df2.hist(bins=100, figsize= (18,20)) #Bins son el # de barras, fig size es el ancho por alto\n",
    "#Se ven los outliers en el rango del eje x, porque hay hasya -20 y 20"
   ]
  },
  {
   "cell_type": "markdown",
   "metadata": {},
   "source": [
    "### Metodos de imputacion de outliers (IQR - Interquartile Range)"
   ]
  },
  {
   "cell_type": "markdown",
   "metadata": {},
   "source": [
    "#### El \"método\" mask Devuelve un DataFrame booleano que marca como True los valores por debajo y por encima del rango aceptable (potenciales outliers bajos y altos).\n",
    "- El operador ~ en Python (cuando se usa con objetos booleanos como en pandas o NumPy) significa negación lógica o \"no\"."
   ]
  },
  {
   "cell_type": "code",
   "execution_count": 93,
   "metadata": {},
   "outputs": [],
   "source": [
    "Q1 = df2.quantile(0.25)\n",
    "Q3 = df2.quantile(0.75)\n",
    "\n",
    "IQR = Q3 - Q1 \n",
    "mask_iqr = ~((df2 < (Q1 - 1.5 * IQR)) | (df2 > (Q3 + 1.5 * IQR))).any(axis=1) # no sé para qué era esto\n",
    "#construyendo una máscara booleana (mask_iqr) que se usa para filtrar outliers (valores atípicos) en un DataFrame (df2)\n",
    "\n"
   ]
  },
  {
   "cell_type": "code",
   "execution_count": 97,
   "metadata": {},
   "outputs": [
    {
     "data": {
      "text/plain": [
       "0        True\n",
       "1        True\n",
       "2        True\n",
       "3        True\n",
       "4        True\n",
       "        ...  \n",
       "9995     True\n",
       "9996     True\n",
       "9997     True\n",
       "9998    False\n",
       "9999     True\n",
       "Length: 10000, dtype: bool"
      ]
     },
     "execution_count": 97,
     "metadata": {},
     "output_type": "execute_result"
    }
   ],
   "source": [
    "mask_iqr"
   ]
  },
  {
   "cell_type": "code",
   "execution_count": null,
   "metadata": {},
   "outputs": [
    {
     "data": {
      "image/png": "[encoded data removed]",
      "text/plain": [
       "<Figure size 1800x2000 with 6 Axes>"
      ]
     },
     "metadata": {},
     "output_type": "display_data"
    }
   ],
   "source": [
    "df2[mask_iqr].hist(bins=100, figsize=(18,20)); # ya solo se queda los que cumplieron su condición de mask_iqr\n",
    "#Acá ya no hay outliers, se ve en el rango x que va de -3 a 3"
   ]
  },
  {
   "cell_type": "code",
   "execution_count": 101,
   "metadata": {},
   "outputs": [
    {
     "data": {
      "text/plain": [
       "(10000, 9547)"
      ]
     },
     "execution_count": 101,
     "metadata": {},
     "output_type": "execute_result"
    }
   ],
   "source": [
    "#acá nada más saca con qué % de la base se quedó\n",
    "len(df2), len(df2[mask_iqr])"
   ]
  },
  {
   "cell_type": "code",
   "execution_count": 100,
   "metadata": {},
   "outputs": [
    {
     "data": {
      "text/plain": [
       "453"
      ]
     },
     "execution_count": 100,
     "metadata": {},
     "output_type": "execute_result"
    }
   ],
   "source": [
    "len(df2) - len(df2[mask_iqr])"
   ]
  },
  {
   "cell_type": "code",
   "execution_count": 104,
   "metadata": {},
   "outputs": [
    {
     "data": {
      "text/plain": [
       "95.47"
      ]
     },
     "execution_count": 104,
     "metadata": {},
     "output_type": "execute_result"
    }
   ],
   "source": [
    "9547/10000*100 #95%"
   ]
  },
  {
   "cell_type": "markdown",
   "metadata": {},
   "source": [
    "### Metodo de Z-score #"
   ]
  },
  {
   "cell_type": "code",
   "execution_count": 106,
   "metadata": {},
   "outputs": [],
   "source": [
    "from scipy.stats import zscore"
   ]
  },
  {
   "cell_type": "markdown",
   "metadata": {},
   "source": [
    "Detectar outliers: valores con z-score > 3 o < -3 suelen considerarse atípicos.\n",
    "\n",
    "*Nota:* Esto se hace sobre datos normalziados (antes de aplicar modelos de machine learning.)\n",
    "\n"
   ]
  },
  {
   "cell_type": "code",
   "execution_count": 107,
   "metadata": {},
   "outputs": [],
   "source": [
    "Z_scores = df2.apply(zscore) #Calcula los z-scores para CADA valor en el data frame normal \n",
    "#.apply aplica esa función columna por columna.\n",
    "mask_zscore = (Z_scores > -3) & (Z_scores < +3)  # Hace lo mismo que arriba, marca como true los valores dentro del rango"
   ]
  },
  {
   "cell_type": "code",
   "execution_count": null,
   "metadata": {},
   "outputs": [
    {
     "data": {
      "image/png": "[encoded data removed]",
      "text/plain": [
       "<Figure size 1800x2000 with 6 Axes>"
      ]
     },
     "metadata": {},
     "output_type": "display_data"
    }
   ],
   "source": [
    "df2[mask_zscore.all(axis=1)].hist(bins = 100, figsize=(18,20)); #igual se trae los valores que cumplan el rango\n",
    "#el .all evalua toda la columna/fila y te da el boolean (false o true). axis=1 específica que sean filas, axis=0 se refiere a por columnas"
   ]
  },
  {
   "cell_type": "code",
   "execution_count": 112,
   "metadata": {},
   "outputs": [
    {
     "data": {
      "text/plain": [
       "(10000, 9884)"
      ]
     },
     "execution_count": 112,
     "metadata": {},
     "output_type": "execute_result"
    }
   ],
   "source": [
    "len(df2), len(df2[mask_zscore.all(axis=1)])"
   ]
  },
  {
   "cell_type": "code",
   "execution_count": 117,
   "metadata": {},
   "outputs": [
    {
     "data": {
      "text/plain": [
       "0.9884"
      ]
     },
     "execution_count": 117,
     "metadata": {},
     "output_type": "execute_result"
    }
   ],
   "source": [
    "9884/10000 #nos quedamos con el 98% "
   ]
  },
  {
   "cell_type": "markdown",
   "metadata": {},
   "source": [
    "## Multivariado"
   ]
  },
  {
   "cell_type": "markdown",
   "metadata": {},
   "source": [
    "#### Isolation Forest (Tipo de arbol, familia: ensambles) Se utiliza mucho para entrendar de manera multivariada los valores extremos, en vez de ir valor por valor y hacer las técnicas\n",
    "\n",
    "IsolationForest es un algoritmo de machine learning para detección de anomalías (outlier detection). Funciona muy bien en datos multivariantes."
   ]
  },
  {
   "cell_type": "code",
   "execution_count": 146,
   "metadata": {},
   "outputs": [],
   "source": [
    "from sklearn.ensemble import IsolationForest"
   ]
  },
  {
   "cell_type": "code",
   "execution_count": 147,
   "metadata": {},
   "outputs": [],
   "source": [
    "#Dice el profe que esto ya es hacer Machine Learning. Es para ver si es un buen metodo para outliers\n",
    "\n",
    "iso_forest = IsolationForest(n_estimators=100, random_state=42) #(N = numero de arboeles, # de ensambles, semilla random))\n",
    "# .fit para entrenar el modelo"
   ]
  },
  {
   "cell_type": "code",
   "execution_count": 153,
   "metadata": {},
   "outputs": [
    {
     "data": {
      "text/html": [
       "<style>#sk-container-id-3 {\n",
       "  /* Definition of color scheme common for light and dark mode */\n",
       "  --sklearn-color-text: #000;\n",
       "  --sklearn-color-text-muted: #666;\n",
       "  --sklearn-color-line: gray;\n",
       "  /* Definition of color scheme for unfitted estimators */\n",
       "  --sklearn-color-unfitted-level-0: #fff5e6;\n",
       "  --sklearn-color-unfitted-level-1: #f6e4d2;\n",
       "  --sklearn-color-unfitted-level-2: #ffe0b3;\n",
       "  --sklearn-color-unfitted-level-3: chocolate;\n",
       "  /* Definition of color scheme for fitted estimators */\n",
       "  --sklearn-color-fitted-level-0: #f0f8ff;\n",
       "  --sklearn-color-fitted-level-1: #d4ebff;\n",
       "  --sklearn-color-fitted-level-2: #b3dbfd;\n",
       "  --sklearn-color-fitted-level-3: cornflowerblue;\n",
       "\n",
       "  /* Specific color for light theme */\n",
       "  --sklearn-color-text-on-default-background: var(--sg-text-color, var(--theme-code-foreground, var(--jp-content-font-color1, black)));\n",
       "  --sklearn-color-background: var(--sg-background-color, var(--theme-background, var(--jp-layout-color0, white)));\n",
       "  --sklearn-color-border-box: var(--sg-text-color, var(--theme-code-foreground, var(--jp-content-font-color1, black)));\n",
       "  --sklearn-color-icon: #696969;\n",
       "\n",
       "  @media (prefers-color-scheme: dark) {\n",
       "    /* Redefinition of color scheme for dark theme */\n",
       "    --sklearn-color-text-on-default-background: var(--sg-text-color, var(--theme-code-foreground, var(--jp-content-font-color1, white)));\n",
       "    --sklearn-color-background: var(--sg-background-color, var(--theme-background, var(--jp-layout-color0, #111)));\n",
       "    --sklearn-color-border-box: var(--sg-text-color, var(--theme-code-foreground, var(--jp-content-font-color1, white)));\n",
       "    --sklearn-color-icon: #878787;\n",
       "  }\n",
       "}\n",
       "\n",
       "#sk-container-id-3 {\n",
       "  color: var(--sklearn-color-text);\n",
       "}\n",
       "\n",
       "#sk-container-id-3 pre {\n",
       "  padding: 0;\n",
       "}\n",
       "\n",
       "#sk-container-id-3 input.sk-hidden--visually {\n",
       "  border: 0;\n",
       "  clip: rect(1px 1px 1px 1px);\n",
       "  clip: rect(1px, 1px, 1px, 1px);\n",
       "  height: 1px;\n",
       "  margin: -1px;\n",
       "  overflow: hidden;\n",
       "  padding: 0;\n",
       "  position: absolute;\n",
       "  width: 1px;\n",
       "}\n",
       "\n",
       "#sk-container-id-3 div.sk-dashed-wrapped {\n",
       "  border: 1px dashed var(--sklearn-color-line);\n",
       "  margin: 0 0.4em 0.5em 0.4em;\n",
       "  box-sizing: border-box;\n",
       "  padding-bottom: 0.4em;\n",
       "  background-color: var(--sklearn-color-background);\n",
       "}\n",
       "\n",
       "#sk-container-id-3 div.sk-container {\n",
       "  /* jupyter's `normalize.less` sets `[hidden] { display: none; }`\n",
       "     but bootstrap.min.css set `[hidden] { display: none !important; }`\n",
       "     so we also need the `!important` here to be able to override the\n",
       "     default hidden behavior on the sphinx rendered scikit-learn.org.\n",
       "     See: https://github.com/scikit-learn/scikit-learn/issues/21755 */\n",
       "  display: inline-block !important;\n",
       "  position: relative;\n",
       "}\n",
       "\n",
       "#sk-container-id-3 div.sk-text-repr-fallback {\n",
       "  display: none;\n",
       "}\n",
       "\n",
       "div.sk-parallel-item,\n",
       "div.sk-serial,\n",
       "div.sk-item {\n",
       "  /* draw centered vertical line to link estimators */\n",
       "  background-image: linear-gradient(var(--sklearn-color-text-on-default-background), var(--sklearn-color-text-on-default-background));\n",
       "  background-size: 2px 100%;\n",
       "  background-repeat: no-repeat;\n",
       "  background-position: center center;\n",
       "}\n",
       "\n",
       "/* Parallel-specific style estimator block */\n",
       "\n",
       "#sk-container-id-3 div.sk-parallel-item::after {\n",
       "  content: \"\";\n",
       "  width: 100%;\n",
       "  border-bottom: 2px solid var(--sklearn-color-text-on-default-background);\n",
       "  flex-grow: 1;\n",
       "}\n",
       "\n",
       "#sk-container-id-3 div.sk-parallel {\n",
       "  display: flex;\n",
       "  align-items: stretch;\n",
       "  justify-content: center;\n",
       "  background-color: var(--sklearn-color-background);\n",
       "  position: relative;\n",
       "}\n",
       "\n",
       "#sk-container-id-3 div.sk-parallel-item {\n",
       "  display: flex;\n",
       "  flex-direction: column;\n",
       "}\n",
       "\n",
       "#sk-container-id-3 div.sk-parallel-item:first-child::after {\n",
       "  align-self: flex-end;\n",
       "  width: 50%;\n",
       "}\n",
       "\n",
       "#sk-container-id-3 div.sk-parallel-item:last-child::after {\n",
       "  align-self: flex-start;\n",
       "  width: 50%;\n",
       "}\n",
       "\n",
       "#sk-container-id-3 div.sk-parallel-item:only-child::after {\n",
       "  width: 0;\n",
       "}\n",
       "\n",
       "/* Serial-specific style estimator block */\n",
       "\n",
       "#sk-container-id-3 div.sk-serial {\n",
       "  display: flex;\n",
       "  flex-direction: column;\n",
       "  align-items: center;\n",
       "  background-color: var(--sklearn-color-background);\n",
       "  padding-right: 1em;\n",
       "  padding-left: 1em;\n",
       "}\n",
       "\n",
       "\n",
       "/* Toggleable style: style used for estimator/Pipeline/ColumnTransformer box that is\n",
       "clickable and can be expanded/collapsed.\n",
       "- Pipeline and ColumnTransformer use this feature and define the default style\n",
       "- Estimators will overwrite some part of the style using the `sk-estimator` class\n",
       "*/\n",
       "\n",
       "/* Pipeline and ColumnTransformer style (default) */\n",
       "\n",
       "#sk-container-id-3 div.sk-toggleable {\n",
       "  /* Default theme specific background. It is overwritten whether we have a\n",
       "  specific estimator or a Pipeline/ColumnTransformer */\n",
       "  background-color: var(--sklearn-color-background);\n",
       "}\n",
       "\n",
       "/* Toggleable label */\n",
       "#sk-container-id-3 label.sk-toggleable__label {\n",
       "  cursor: pointer;\n",
       "  display: flex;\n",
       "  width: 100%;\n",
       "  margin-bottom: 0;\n",
       "  padding: 0.5em;\n",
       "  box-sizing: border-box;\n",
       "  text-align: center;\n",
       "  align-items: start;\n",
       "  justify-content: space-between;\n",
       "  gap: 0.5em;\n",
       "}\n",
       "\n",
       "#sk-container-id-3 label.sk-toggleable__label .caption {\n",
       "  font-size: 0.6rem;\n",
       "  font-weight: lighter;\n",
       "  color: var(--sklearn-color-text-muted);\n",
       "}\n",
       "\n",
       "#sk-container-id-3 label.sk-toggleable__label-arrow:before {\n",
       "  /* Arrow on the left of the label */\n",
       "  content: \"▸\";\n",
       "  float: left;\n",
       "  margin-right: 0.25em;\n",
       "  color: var(--sklearn-color-icon);\n",
       "}\n",
       "\n",
       "#sk-container-id-3 label.sk-toggleable__label-arrow:hover:before {\n",
       "  color: var(--sklearn-color-text);\n",
       "}\n",
       "\n",
       "/* Toggleable content - dropdown */\n",
       "\n",
       "#sk-container-id-3 div.sk-toggleable__content {\n",
       "  display: none;\n",
       "  text-align: left;\n",
       "  /* unfitted */\n",
       "  background-color: var(--sklearn-color-unfitted-level-0);\n",
       "}\n",
       "\n",
       "#sk-container-id-3 div.sk-toggleable__content.fitted {\n",
       "  /* fitted */\n",
       "  background-color: var(--sklearn-color-fitted-level-0);\n",
       "}\n",
       "\n",
       "#sk-container-id-3 div.sk-toggleable__content pre {\n",
       "  margin: 0.2em;\n",
       "  border-radius: 0.25em;\n",
       "  color: var(--sklearn-color-text);\n",
       "  /* unfitted */\n",
       "  background-color: var(--sklearn-color-unfitted-level-0);\n",
       "}\n",
       "\n",
       "#sk-container-id-3 div.sk-toggleable__content.fitted pre {\n",
       "  /* unfitted */\n",
       "  background-color: var(--sklearn-color-fitted-level-0);\n",
       "}\n",
       "\n",
       "#sk-container-id-3 input.sk-toggleable__control:checked~div.sk-toggleable__content {\n",
       "  /* Expand drop-down */\n",
       "  display: block;\n",
       "  width: 100%;\n",
       "  overflow: visible;\n",
       "}\n",
       "\n",
       "#sk-container-id-3 input.sk-toggleable__control:checked~label.sk-toggleable__label-arrow:before {\n",
       "  content: \"▾\";\n",
       "}\n",
       "\n",
       "/* Pipeline/ColumnTransformer-specific style */\n",
       "\n",
       "#sk-container-id-3 div.sk-label input.sk-toggleable__control:checked~label.sk-toggleable__label {\n",
       "  color: var(--sklearn-color-text);\n",
       "  background-color: var(--sklearn-color-unfitted-level-2);\n",
       "}\n",
       "\n",
       "#sk-container-id-3 div.sk-label.fitted input.sk-toggleable__control:checked~label.sk-toggleable__label {\n",
       "  background-color: var(--sklearn-color-fitted-level-2);\n",
       "}\n",
       "\n",
       "/* Estimator-specific style */\n",
       "\n",
       "/* Colorize estimator box */\n",
       "#sk-container-id-3 div.sk-estimator input.sk-toggleable__control:checked~label.sk-toggleable__label {\n",
       "  /* unfitted */\n",
       "  background-color: var(--sklearn-color-unfitted-level-2);\n",
       "}\n",
       "\n",
       "#sk-container-id-3 div.sk-estimator.fitted input.sk-toggleable__control:checked~label.sk-toggleable__label {\n",
       "  /* fitted */\n",
       "  background-color: var(--sklearn-color-fitted-level-2);\n",
       "}\n",
       "\n",
       "#sk-container-id-3 div.sk-label label.sk-toggleable__label,\n",
       "#sk-container-id-3 div.sk-label label {\n",
       "  /* The background is the default theme color */\n",
       "  color: var(--sklearn-color-text-on-default-background);\n",
       "}\n",
       "\n",
       "/* On hover, darken the color of the background */\n",
       "#sk-container-id-3 div.sk-label:hover label.sk-toggleable__label {\n",
       "  color: var(--sklearn-color-text);\n",
       "  background-color: var(--sklearn-color-unfitted-level-2);\n",
       "}\n",
       "\n",
       "/* Label box, darken color on hover, fitted */\n",
       "#sk-container-id-3 div.sk-label.fitted:hover label.sk-toggleable__label.fitted {\n",
       "  color: var(--sklearn-color-text);\n",
       "  background-color: var(--sklearn-color-fitted-level-2);\n",
       "}\n",
       "\n",
       "/* Estimator label */\n",
       "\n",
       "#sk-container-id-3 div.sk-label label {\n",
       "  font-family: monospace;\n",
       "  font-weight: bold;\n",
       "  display: inline-block;\n",
       "  line-height: 1.2em;\n",
       "}\n",
       "\n",
       "#sk-container-id-3 div.sk-label-container {\n",
       "  text-align: center;\n",
       "}\n",
       "\n",
       "/* Estimator-specific */\n",
       "#sk-container-id-3 div.sk-estimator {\n",
       "  font-family: monospace;\n",
       "  border: 1px dotted var(--sklearn-color-border-box);\n",
       "  border-radius: 0.25em;\n",
       "  box-sizing: border-box;\n",
       "  margin-bottom: 0.5em;\n",
       "  /* unfitted */\n",
       "  background-color: var(--sklearn-color-unfitted-level-0);\n",
       "}\n",
       "\n",
       "#sk-container-id-3 div.sk-estimator.fitted {\n",
       "  /* fitted */\n",
       "  background-color: var(--sklearn-color-fitted-level-0);\n",
       "}\n",
       "\n",
       "/* on hover */\n",
       "#sk-container-id-3 div.sk-estimator:hover {\n",
       "  /* unfitted */\n",
       "  background-color: var(--sklearn-color-unfitted-level-2);\n",
       "}\n",
       "\n",
       "#sk-container-id-3 div.sk-estimator.fitted:hover {\n",
       "  /* fitted */\n",
       "  background-color: var(--sklearn-color-fitted-level-2);\n",
       "}\n",
       "\n",
       "/* Specification for estimator info (e.g. \"i\" and \"?\") */\n",
       "\n",
       "/* Common style for \"i\" and \"?\" */\n",
       "\n",
       ".sk-estimator-doc-link,\n",
       "a:link.sk-estimator-doc-link,\n",
       "a:visited.sk-estimator-doc-link {\n",
       "  float: right;\n",
       "  font-size: smaller;\n",
       "  line-height: 1em;\n",
       "  font-family: monospace;\n",
       "  background-color: var(--sklearn-color-background);\n",
       "  border-radius: 1em;\n",
       "  height: 1em;\n",
       "  width: 1em;\n",
       "  text-decoration: none !important;\n",
       "  margin-left: 0.5em;\n",
       "  text-align: center;\n",
       "  /* unfitted */\n",
       "  border: var(--sklearn-color-unfitted-level-1) 1pt solid;\n",
       "  color: var(--sklearn-color-unfitted-level-1);\n",
       "}\n",
       "\n",
       ".sk-estimator-doc-link.fitted,\n",
       "a:link.sk-estimator-doc-link.fitted,\n",
       "a:visited.sk-estimator-doc-link.fitted {\n",
       "  /* fitted */\n",
       "  border: var(--sklearn-color-fitted-level-1) 1pt solid;\n",
       "  color: var(--sklearn-color-fitted-level-1);\n",
       "}\n",
       "\n",
       "/* On hover */\n",
       "div.sk-estimator:hover .sk-estimator-doc-link:hover,\n",
       ".sk-estimator-doc-link:hover,\n",
       "div.sk-label-container:hover .sk-estimator-doc-link:hover,\n",
       ".sk-estimator-doc-link:hover {\n",
       "  /* unfitted */\n",
       "  background-color: var(--sklearn-color-unfitted-level-3);\n",
       "  color: var(--sklearn-color-background);\n",
       "  text-decoration: none;\n",
       "}\n",
       "\n",
       "div.sk-estimator.fitted:hover .sk-estimator-doc-link.fitted:hover,\n",
       ".sk-estimator-doc-link.fitted:hover,\n",
       "div.sk-label-container:hover .sk-estimator-doc-link.fitted:hover,\n",
       ".sk-estimator-doc-link.fitted:hover {\n",
       "  /* fitted */\n",
       "  background-color: var(--sklearn-color-fitted-level-3);\n",
       "  color: var(--sklearn-color-background);\n",
       "  text-decoration: none;\n",
       "}\n",
       "\n",
       "/* Span, style for the box shown on hovering the info icon */\n",
       ".sk-estimator-doc-link span {\n",
       "  display: none;\n",
       "  z-index: 9999;\n",
       "  position: relative;\n",
       "  font-weight: normal;\n",
       "  right: .2ex;\n",
       "  padding: .5ex;\n",
       "  margin: .5ex;\n",
       "  width: min-content;\n",
       "  min-width: 20ex;\n",
       "  max-width: 50ex;\n",
       "  color: var(--sklearn-color-text);\n",
       "  box-shadow: 2pt 2pt 4pt #999;\n",
       "  /* unfitted */\n",
       "  background: var(--sklearn-color-unfitted-level-0);\n",
       "  border: .5pt solid var(--sklearn-color-unfitted-level-3);\n",
       "}\n",
       "\n",
       ".sk-estimator-doc-link.fitted span {\n",
       "  /* fitted */\n",
       "  background: var(--sklearn-color-fitted-level-0);\n",
       "  border: var(--sklearn-color-fitted-level-3);\n",
       "}\n",
       "\n",
       ".sk-estimator-doc-link:hover span {\n",
       "  display: block;\n",
       "}\n",
       "\n",
       "/* \"?\"-specific style due to the `<a>` HTML tag */\n",
       "\n",
       "#sk-container-id-3 a.estimator_doc_link {\n",
       "  float: right;\n",
       "  font-size: 1rem;\n",
       "  line-height: 1em;\n",
       "  font-family: monospace;\n",
       "  background-color: var(--sklearn-color-background);\n",
       "  border-radius: 1rem;\n",
       "  height: 1rem;\n",
       "  width: 1rem;\n",
       "  text-decoration: none;\n",
       "  /* unfitted */\n",
       "  color: var(--sklearn-color-unfitted-level-1);\n",
       "  border: var(--sklearn-color-unfitted-level-1) 1pt solid;\n",
       "}\n",
       "\n",
       "#sk-container-id-3 a.estimator_doc_link.fitted {\n",
       "  /* fitted */\n",
       "  border: var(--sklearn-color-fitted-level-1) 1pt solid;\n",
       "  color: var(--sklearn-color-fitted-level-1);\n",
       "}\n",
       "\n",
       "/* On hover */\n",
       "#sk-container-id-3 a.estimator_doc_link:hover {\n",
       "  /* unfitted */\n",
       "  background-color: var(--sklearn-color-unfitted-level-3);\n",
       "  color: var(--sklearn-color-background);\n",
       "  text-decoration: none;\n",
       "}\n",
       "\n",
       "#sk-container-id-3 a.estimator_doc_link.fitted:hover {\n",
       "  /* fitted */\n",
       "  background-color: var(--sklearn-color-fitted-level-3);\n",
       "}\n",
       "\n",
       ".estimator-table summary {\n",
       "    padding: .5rem;\n",
       "    font-family: monospace;\n",
       "    cursor: pointer;\n",
       "}\n",
       "\n",
       ".estimator-table details[open] {\n",
       "    padding-left: 0.1rem;\n",
       "    padding-right: 0.1rem;\n",
       "    padding-bottom: 0.3rem;\n",
       "}\n",
       "\n",
       ".estimator-table .parameters-table {\n",
       "    margin-left: auto !important;\n",
       "    margin-right: auto !important;\n",
       "}\n",
       "\n",
       ".estimator-table .parameters-table tr:nth-child(odd) {\n",
       "    background-color: #fff;\n",
       "}\n",
       "\n",
       ".estimator-table .parameters-table tr:nth-child(even) {\n",
       "    background-color: #f6f6f6;\n",
       "}\n",
       "\n",
       ".estimator-table .parameters-table tr:hover {\n",
       "    background-color: #e0e0e0;\n",
       "}\n",
       "\n",
       ".estimator-table table td {\n",
       "    border: 1px solid rgba(106, 105, 104, 0.232);\n",
       "}\n",
       "\n",
       ".user-set td {\n",
       "    color:rgb(255, 94, 0);\n",
       "    text-align: left;\n",
       "}\n",
       "\n",
       ".user-set td.value pre {\n",
       "    color:rgb(255, 94, 0) !important;\n",
       "    background-color: transparent !important;\n",
       "}\n",
       "\n",
       ".default td {\n",
       "    color: black;\n",
       "    text-align: left;\n",
       "}\n",
       "\n",
       ".user-set td i,\n",
       ".default td i {\n",
       "    color: black;\n",
       "}\n",
       "\n",
       ".copy-paste-icon {\n",
       "    background-image: url(data:image/svg+xml;base64,PHN2ZyB4bWxucz0iaHR0cDovL3d3dy53My5vcmcvMjAwMC9zdmciIHZpZXdCb3g9IjAgMCA0NDggNTEyIj48IS0tIUZvbnQgQXdlc29tZSBGcmVlIDYuNy4yIGJ5IEBmb250YXdlc29tZSAtIGh0dHBzOi8vZm9udGF3ZXNvbWUuY29tIExpY2Vuc2UgLSBodHRwczovL2ZvbnRhd2Vzb21lLmNvbS9saWNlbnNlL2ZyZWUgQ29weXJpZ2h0IDIwMjUgRm9udGljb25zLCBJbmMuLS0+PHBhdGggZD0iTTIwOCAwTDMzMi4xIDBjMTIuNyAwIDI0LjkgNS4xIDMzLjkgMTQuMWw2Ny45IDY3LjljOSA5IDE0LjEgMjEuMiAxNC4xIDMzLjlMNDQ4IDMzNmMwIDI2LjUtMjEuNSA0OC00OCA0OGwtMTkyIDBjLTI2LjUgMC00OC0yMS41LTQ4LTQ4bDAtMjg4YzAtMjYuNSAyMS41LTQ4IDQ4LTQ4ek00OCAxMjhsODAgMCAwIDY0LTY0IDAgMCAyNTYgMTkyIDAgMC0zMiA2NCAwIDAgNDhjMCAyNi41LTIxLjUgNDgtNDggNDhMNDggNTEyYy0yNi41IDAtNDgtMjEuNS00OC00OEwwIDE3NmMwLTI2LjUgMjEuNS00OCA0OC00OHoiLz48L3N2Zz4=);\n",
       "    background-repeat: no-repeat;\n",
       "    background-size: 14px 14px;\n",
       "    background-position: 0;\n",
       "    display: inline-block;\n",
       "    width: 14px;\n",
       "    height: 14px;\n",
       "    cursor: pointer;\n",
       "}\n",
       "</style><body><div id=\"sk-container-id-3\" class=\"sk-top-container\"><div class=\"sk-text-repr-fallback\"><pre>IsolationForest(random_state=42)</pre><b>In a Jupyter environment, please rerun this cell to show the HTML representation or trust the notebook. <br />On GitHub, the HTML representation is unable to render, please try loading this page with nbviewer.org.</b></div><div class=\"sk-container\" hidden><div class=\"sk-item\"><div class=\"sk-estimator fitted sk-toggleable\"><input class=\"sk-toggleable__control sk-hidden--visually\" id=\"sk-estimator-id-3\" type=\"checkbox\" checked><label for=\"sk-estimator-id-3\" class=\"sk-toggleable__label fitted sk-toggleable__label-arrow\"><div><div>IsolationForest</div></div><div><a class=\"sk-estimator-doc-link fitted\" rel=\"noreferrer\" target=\"_blank\" href=\"https://scikit-learn.org/1.7/modules/generated/sklearn.ensemble.IsolationForest.html\">?<span>Documentation for IsolationForest</span></a><span class=\"sk-estimator-doc-link fitted\">i<span>Fitted</span></span></div></label><div class=\"sk-toggleable__content fitted\" data-param-prefix=\"\">\n",
       "        <div class=\"estimator-table\">\n",
       "            <details>\n",
       "                <summary>Parameters</summary>\n",
       "                <table class=\"parameters-table\">\n",
       "                  <tbody>\n",
       "                    \n",
       "        <tr class=\"default\">\n",
       "            <td><i class=\"copy-paste-icon\"\n",
       "                 onclick=\"copyToClipboard('n_estimators',\n",
       "                          this.parentElement.nextElementSibling)\"\n",
       "            ></i></td>\n",
       "            <td class=\"param\">n_estimators&nbsp;</td>\n",
       "            <td class=\"value\">100</td>\n",
       "        </tr>\n",
       "    \n",
       "\n",
       "        <tr class=\"default\">\n",
       "            <td><i class=\"copy-paste-icon\"\n",
       "                 onclick=\"copyToClipboard('max_samples',\n",
       "                          this.parentElement.nextElementSibling)\"\n",
       "            ></i></td>\n",
       "            <td class=\"param\">max_samples&nbsp;</td>\n",
       "            <td class=\"value\">&#x27;auto&#x27;</td>\n",
       "        </tr>\n",
       "    \n",
       "\n",
       "        <tr class=\"default\">\n",
       "            <td><i class=\"copy-paste-icon\"\n",
       "                 onclick=\"copyToClipboard('contamination',\n",
       "                          this.parentElement.nextElementSibling)\"\n",
       "            ></i></td>\n",
       "            <td class=\"param\">contamination&nbsp;</td>\n",
       "            <td class=\"value\">&#x27;auto&#x27;</td>\n",
       "        </tr>\n",
       "    \n",
       "\n",
       "        <tr class=\"default\">\n",
       "            <td><i class=\"copy-paste-icon\"\n",
       "                 onclick=\"copyToClipboard('max_features',\n",
       "                          this.parentElement.nextElementSibling)\"\n",
       "            ></i></td>\n",
       "            <td class=\"param\">max_features&nbsp;</td>\n",
       "            <td class=\"value\">1.0</td>\n",
       "        </tr>\n",
       "    \n",
       "\n",
       "        <tr class=\"default\">\n",
       "            <td><i class=\"copy-paste-icon\"\n",
       "                 onclick=\"copyToClipboard('bootstrap',\n",
       "                          this.parentElement.nextElementSibling)\"\n",
       "            ></i></td>\n",
       "            <td class=\"param\">bootstrap&nbsp;</td>\n",
       "            <td class=\"value\">False</td>\n",
       "        </tr>\n",
       "    \n",
       "\n",
       "        <tr class=\"default\">\n",
       "            <td><i class=\"copy-paste-icon\"\n",
       "                 onclick=\"copyToClipboard('n_jobs',\n",
       "                          this.parentElement.nextElementSibling)\"\n",
       "            ></i></td>\n",
       "            <td class=\"param\">n_jobs&nbsp;</td>\n",
       "            <td class=\"value\">None</td>\n",
       "        </tr>\n",
       "    \n",
       "\n",
       "        <tr class=\"user-set\">\n",
       "            <td><i class=\"copy-paste-icon\"\n",
       "                 onclick=\"copyToClipboard('random_state',\n",
       "                          this.parentElement.nextElementSibling)\"\n",
       "            ></i></td>\n",
       "            <td class=\"param\">random_state&nbsp;</td>\n",
       "            <td class=\"value\">42</td>\n",
       "        </tr>\n",
       "    \n",
       "\n",
       "        <tr class=\"default\">\n",
       "            <td><i class=\"copy-paste-icon\"\n",
       "                 onclick=\"copyToClipboard('verbose',\n",
       "                          this.parentElement.nextElementSibling)\"\n",
       "            ></i></td>\n",
       "            <td class=\"param\">verbose&nbsp;</td>\n",
       "            <td class=\"value\">0</td>\n",
       "        </tr>\n",
       "    \n",
       "\n",
       "        <tr class=\"default\">\n",
       "            <td><i class=\"copy-paste-icon\"\n",
       "                 onclick=\"copyToClipboard('warm_start',\n",
       "                          this.parentElement.nextElementSibling)\"\n",
       "            ></i></td>\n",
       "            <td class=\"param\">warm_start&nbsp;</td>\n",
       "            <td class=\"value\">False</td>\n",
       "        </tr>\n",
       "    \n",
       "                  </tbody>\n",
       "                </table>\n",
       "            </details>\n",
       "        </div>\n",
       "    </div></div></div></div></div><script>function copyToClipboard(text, element) {\n",
       "    // Get the parameter prefix from the closest toggleable content\n",
       "    const toggleableContent = element.closest('.sk-toggleable__content');\n",
       "    const paramPrefix = toggleableContent ? toggleableContent.dataset.paramPrefix : '';\n",
       "    const fullParamName = paramPrefix ? `${paramPrefix}${text}` : text;\n",
       "\n",
       "    const originalStyle = element.style;\n",
       "    const computedStyle = window.getComputedStyle(element);\n",
       "    const originalWidth = computedStyle.width;\n",
       "    const originalHTML = element.innerHTML.replace('Copied!', '');\n",
       "\n",
       "    navigator.clipboard.writeText(fullParamName)\n",
       "        .then(() => {\n",
       "            element.style.width = originalWidth;\n",
       "            element.style.color = 'green';\n",
       "            element.innerHTML = \"Copied!\";\n",
       "\n",
       "            setTimeout(() => {\n",
       "                element.innerHTML = originalHTML;\n",
       "                element.style = originalStyle;\n",
       "            }, 2000);\n",
       "        })\n",
       "        .catch(err => {\n",
       "            console.error('Failed to copy:', err);\n",
       "            element.style.color = 'red';\n",
       "            element.innerHTML = \"Failed!\";\n",
       "            setTimeout(() => {\n",
       "                element.innerHTML = originalHTML;\n",
       "                element.style = originalStyle;\n",
       "            }, 2000);\n",
       "        });\n",
       "    return false;\n",
       "}\n",
       "\n",
       "document.querySelectorAll('.fa-regular.fa-copy').forEach(function(element) {\n",
       "    const toggleableContent = element.closest('.sk-toggleable__content');\n",
       "    const paramPrefix = toggleableContent ? toggleableContent.dataset.paramPrefix : '';\n",
       "    const paramName = element.parentElement.nextElementSibling.textContent.trim();\n",
       "    const fullParamName = paramPrefix ? `${paramPrefix}${paramName}` : paramName;\n",
       "\n",
       "    element.setAttribute('title', fullParamName);\n",
       "});\n",
       "</script></body>"
      ],
      "text/plain": [
       "IsolationForest(random_state=42)"
      ]
     },
     "execution_count": 153,
     "metadata": {},
     "output_type": "execute_result"
    }
   ],
   "source": [
    "iso_forest.fit(df2) #acá le dio la base con los nulos segun yo"
   ]
  },
  {
   "cell_type": "markdown",
   "metadata": {},
   "source": [
    "### Predicción\n",
    "1 → la fila es normal (no es outlier)\n",
    "\n",
    "-1 → la fila es anómala (outlier)"
   ]
  },
  {
   "cell_type": "code",
   "execution_count": 158,
   "metadata": {},
   "outputs": [
    {
     "data": {
      "text/plain": [
       "array([-1,  1,  1, ...,  1, -1,  1], shape=(10000,))"
      ]
     },
     "execution_count": 158,
     "metadata": {},
     "output_type": "execute_result"
    }
   ],
   "source": [
    "iso_preds = iso_forest.predict(df2)\n",
    "iso_preds"
   ]
  },
  {
   "cell_type": "code",
   "execution_count": 150,
   "metadata": {},
   "outputs": [
    {
     "data": {
      "text/plain": [
       "array([-1,  1])"
      ]
     },
     "execution_count": 150,
     "metadata": {},
     "output_type": "execute_result"
    }
   ],
   "source": [
    "pd.Series(iso_preds).unique() #.series convierte el array a series de pandas \n",
    "#iso_preds\n",
    "#pd.Series(iso_preds)"
   ]
  },
  {
   "cell_type": "code",
   "execution_count": 151,
   "metadata": {},
   "outputs": [
    {
     "data": {
      "text/plain": [
       "(10000, 9377)"
      ]
     },
     "execution_count": 151,
     "metadata": {},
     "output_type": "execute_result"
    }
   ],
   "source": [
    "len(df2), len(df2[iso_preds==1]) #Esta predicción solo conserva como \"1\" al 93%"
   ]
  },
  {
   "cell_type": "code",
   "execution_count": 157,
   "metadata": {},
   "outputs": [
    {
     "data": {
      "image/png": "[encoded data removed]",
      "text/plain": [
       "<Figure size 1000x1200 with 6 Axes>"
      ]
     },
     "metadata": {},
     "output_type": "display_data"
    }
   ],
   "source": [
    "#grafiquemoslos\n",
    "df[iso_preds==1].hist(bins=50, figsize = (10,12)) #Acá está raro que estén los outliers claritos ahí, no los etiquetó bien :v pero está el codigo igual\n",
    "\n",
    "#df2[mask_zscore.all(axis=1)].hist(bins = 100, figsize=(18,20));"
   ]
  },
  {
   "cell_type": "markdown",
   "metadata": {},
   "source": [
    "#### Y luego hace lo mismo que hicimos con el univariado. El isolation forest solo se queda con el 86% de información. Está medio feo\n",
    "- Y luego cuando las plotteo, se ven bien feas hahaha\n",
    "- La formula multivariada no jalo :("
   ]
  },
  {
   "cell_type": "markdown",
   "metadata": {},
   "source": [
    "Y acá usa el DBSCAN"
   ]
  },
  {
   "cell_type": "code",
   "execution_count": 160,
   "metadata": {},
   "outputs": [],
   "source": [
    "#Ahora con otro modelo\n",
    "from sklearn.cluster import DBSCAN #Density-Based Spatial Clustering of Applications with Noise\n",
    "#A diferencia de otros algoritmos de clustering como K-means, DBSCAN no requiere especificar el número de clusters de antemano \n",
    "# y puede manejar clusters de formas irregulares y detectar ruido (outliers). "
   ]
  },
  {
   "cell_type": "code",
   "execution_count": 161,
   "metadata": {},
   "outputs": [],
   "source": [
    "dbscan = DBSCAN(min_samples=5)  #(# de clusters, )\n",
    "#el metodo de la sinergia es el que te dice el numero optimo de clusters, asumamos que lo hicimos y fueron 5"
   ]
  },
  {
   "cell_type": "markdown",
   "metadata": {},
   "source": [
    "#### Hay 2 formas de entrenar\n",
    "- Fit y predict (por separad) - Sugerido\n",
    "- fit_predict (en uno solo)"
   ]
  },
  {
   "cell_type": "code",
   "execution_count": 163,
   "metadata": {},
   "outputs": [
    {
     "data": {
      "text/plain": [
       "array([-1,  0, -1, ..., -1, -1, -1], shape=(10000,))"
      ]
     },
     "execution_count": 163,
     "metadata": {},
     "output_type": "execute_result"
    }
   ],
   "source": [
    "clusters = dbscan.fit_predict(df2)\n",
    "clusters"
   ]
  },
  {
   "cell_type": "code",
   "execution_count": 166,
   "metadata": {},
   "outputs": [
    {
     "data": {
      "text/plain": [
       "(array([-1,  0, 51, 58, 57,  1,  2, 48, 50, 13, 63,  3, 43, 33, 12, 32,  4,\n",
       "         5, 35, 45,  6, 23, 19, 10, 30, 47,  7,  8,  9, 14, 21, 37, 64, 20,\n",
       "        34, 52, 11, 26, 15, 16, 17, 54, 27, 31, 41, 42, 18, 25, 29, 22, 49,\n",
       "        24, 38, 28, 59, 55, 56, 36, 53, 62, 46, 60, 39, 40, 66, 68, 65, 44,\n",
       "        61, 69, 70, 67]),\n",
       " 72)"
      ]
     },
     "execution_count": 166,
     "metadata": {},
     "output_type": "execute_result"
    }
   ],
   "source": [
    "pd.Series(clusters).unique(), len(pd.Series(clusters).unique()) #Cuenta cuántos clusters diferentes hay. Es decir, cuántas clases únicas existen en el array.\n",
    "#no da error porque en Python, una coma entre expresiones crea una tupla."
   ]
  },
  {
   "cell_type": "markdown",
   "metadata": {},
   "source": [
    "✅ ¿Qué es una tupla?\n",
    "Una tupla es una colección ordenada de elementos que:\n",
    "\n",
    "- Puede contener distintos tipos de datos (números, strings, listas, etc.)\n",
    "\n",
    "- Es inmutable: una vez creada, no se puede modificar\n",
    "\n",
    "* Se define con paréntesis (), o incluso sin paréntesis, usando comas"
   ]
  },
  {
   "cell_type": "code",
   "execution_count": null,
   "metadata": {},
   "outputs": [
    {
     "data": {
      "text/plain": [
       "-1     0.5381\n",
       " 0     0.4220\n",
       " 3     0.0027\n",
       " 2     0.0011\n",
       " 11    0.0011\n",
       "        ...  \n",
       " 38    0.0003\n",
       " 49    0.0003\n",
       " 70    0.0003\n",
       " 40    0.0002\n",
       " 8     0.0002\n",
       "Name: proportion, Length: 72, dtype: float64"
      ]
     },
     "execution_count": 172,
     "metadata": {},
     "output_type": "execute_result"
    }
   ],
   "source": [
    "pd.Series(clusters).value_counts(True).sort_values(ascending=False) #acá ordena y cuenta los trues para cada grupo?\n",
    "\n",
    "#a mín me salieron 53% en el -1, y 42% en el 0. Algo ando haciendo mal."
   ]
  },
  {
   "cell_type": "code",
   "execution_count": 173,
   "metadata": {},
   "outputs": [
    {
     "data": {
      "text/plain": [
       "(10000, 4220)"
      ]
     },
     "execution_count": 173,
     "metadata": {},
     "output_type": "execute_result"
    }
   ],
   "source": [
    "#Y entonces se trae lo del cluster mayor, en su ejemplo era 0\n",
    "len(df2), len(df2[clusters == 0]) #igual ahorita SOLO me estoy trayendo el 42%"
   ]
  },
  {
   "cell_type": "code",
   "execution_count": 178,
   "metadata": {},
   "outputs": [
    {
     "data": {
      "image/png": "[encoded data removed]",
      "text/plain": [
       "<Figure size 1800x2000 with 6 Axes>"
      ]
     },
     "metadata": {},
     "output_type": "display_data"
    }
   ],
   "source": [
    "df2[clusters >= 0].hist(bins= 100, figsize=(18,20)); #Se trae los clusters de 0 para arriba, pero hay que ver mis datos"
   ]
  },
  {
   "cell_type": "markdown",
   "metadata": {},
   "source": [
    "### El que hizo con clusters tampoco rifo jaja, pero quien sabe por que. Checho el resultado (la tabla) y dijo que era pura bsaura \n",
    "- Dijo que menos de 10 columnas, no recomienda tecnicas multivariadas (para +50 sí)"
   ]
  },
  {
   "cell_type": "code",
   "execution_count": 179,
   "metadata": {},
   "outputs": [
    {
     "data": {
      "text/html": [
       "<div>\n",
       "<style scoped>\n",
       "    .dataframe tbody tr th:only-of-type {\n",
       "        vertical-align: middle;\n",
       "    }\n",
       "\n",
       "    .dataframe tbody tr th {\n",
       "        vertical-align: top;\n",
       "    }\n",
       "\n",
       "    .dataframe thead th {\n",
       "        text-align: right;\n",
       "    }\n",
       "</style>\n",
       "<table border=\"1\" class=\"dataframe\">\n",
       "  <thead>\n",
       "    <tr style=\"text-align: right;\">\n",
       "      <th></th>\n",
       "      <th>Continua_1</th>\n",
       "      <th>Continua_2</th>\n",
       "      <th>Continua_3</th>\n",
       "      <th>Continua_4</th>\n",
       "      <th>Continua_5</th>\n",
       "    </tr>\n",
       "  </thead>\n",
       "  <tbody>\n",
       "    <tr>\n",
       "      <th>1</th>\n",
       "      <td>-0.977278</td>\n",
       "      <td>0.950088</td>\n",
       "      <td>-0.151357</td>\n",
       "      <td>-0.103219</td>\n",
       "      <td>0.410599</td>\n",
       "    </tr>\n",
       "    <tr>\n",
       "      <th>7</th>\n",
       "      <td>0.156349</td>\n",
       "      <td>1.230291</td>\n",
       "      <td>1.202380</td>\n",
       "      <td>-0.387327</td>\n",
       "      <td>-0.302303</td>\n",
       "    </tr>\n",
       "    <tr>\n",
       "      <th>9</th>\n",
       "      <td>-0.438074</td>\n",
       "      <td>-1.252795</td>\n",
       "      <td>0.777490</td>\n",
       "      <td>-1.613898</td>\n",
       "      <td>-0.212740</td>\n",
       "    </tr>\n",
       "    <tr>\n",
       "      <th>10</th>\n",
       "      <td>-0.895467</td>\n",
       "      <td>0.386902</td>\n",
       "      <td>-0.510805</td>\n",
       "      <td>-1.180632</td>\n",
       "      <td>-0.028182</td>\n",
       "    </tr>\n",
       "    <tr>\n",
       "      <th>11</th>\n",
       "      <td>0.428332</td>\n",
       "      <td>0.066517</td>\n",
       "      <td>0.302472</td>\n",
       "      <td>-0.634322</td>\n",
       "      <td>-0.362741</td>\n",
       "    </tr>\n",
       "    <tr>\n",
       "      <th>...</th>\n",
       "      <td>...</td>\n",
       "      <td>...</td>\n",
       "      <td>...</td>\n",
       "      <td>...</td>\n",
       "      <td>...</td>\n",
       "    </tr>\n",
       "    <tr>\n",
       "      <th>9982</th>\n",
       "      <td>-0.863138</td>\n",
       "      <td>0.994028</td>\n",
       "      <td>0.082846</td>\n",
       "      <td>0.692740</td>\n",
       "      <td>-0.555539</td>\n",
       "    </tr>\n",
       "    <tr>\n",
       "      <th>9984</th>\n",
       "      <td>-0.307125</td>\n",
       "      <td>-0.425105</td>\n",
       "      <td>0.473620</td>\n",
       "      <td>1.484745</td>\n",
       "      <td>0.787622</td>\n",
       "    </tr>\n",
       "    <tr>\n",
       "      <th>9991</th>\n",
       "      <td>-0.773991</td>\n",
       "      <td>0.275747</td>\n",
       "      <td>1.018615</td>\n",
       "      <td>0.355303</td>\n",
       "      <td>0.099419</td>\n",
       "    </tr>\n",
       "    <tr>\n",
       "      <th>9995</th>\n",
       "      <td>-0.393226</td>\n",
       "      <td>-0.035262</td>\n",
       "      <td>0.586450</td>\n",
       "      <td>-0.529516</td>\n",
       "      <td>0.685231</td>\n",
       "    </tr>\n",
       "    <tr>\n",
       "      <th>9996</th>\n",
       "      <td>-0.164385</td>\n",
       "      <td>-0.344142</td>\n",
       "      <td>0.206748</td>\n",
       "      <td>0.112080</td>\n",
       "      <td>-1.841391</td>\n",
       "    </tr>\n",
       "  </tbody>\n",
       "</table>\n",
       "<p>4619 rows × 5 columns</p>\n",
       "</div>"
      ],
      "text/plain": [
       "      Continua_1  Continua_2  Continua_3  Continua_4  Continua_5\n",
       "1      -0.977278    0.950088   -0.151357   -0.103219    0.410599\n",
       "7       0.156349    1.230291    1.202380   -0.387327   -0.302303\n",
       "9      -0.438074   -1.252795    0.777490   -1.613898   -0.212740\n",
       "10     -0.895467    0.386902   -0.510805   -1.180632   -0.028182\n",
       "11      0.428332    0.066517    0.302472   -0.634322   -0.362741\n",
       "...          ...         ...         ...         ...         ...\n",
       "9982   -0.863138    0.994028    0.082846    0.692740   -0.555539\n",
       "9984   -0.307125   -0.425105    0.473620    1.484745    0.787622\n",
       "9991   -0.773991    0.275747    1.018615    0.355303    0.099419\n",
       "9995   -0.393226   -0.035262    0.586450   -0.529516    0.685231\n",
       "9996   -0.164385   -0.344142    0.206748    0.112080   -1.841391\n",
       "\n",
       "[4619 rows x 5 columns]"
      ]
     },
     "execution_count": 179,
     "metadata": {},
     "output_type": "execute_result"
    }
   ],
   "source": [
    "df2[clusters >= 0] # esta tabla"
   ]
  },
  {
   "cell_type": "markdown",
   "metadata": {},
   "source": []
  }
 ],
 "metadata": {
  "kernelspec": {
   "display_name": "Python 3",
   "language": "python",
   "name": "python3"
  },
  "language_info": {
   "codemirror_mode": {
    "name": "ipython",
    "version": 3
   },
   "file_extension": ".py",
   "mimetype": "text/x-python",
   "name": "python",
   "nbconvert_exporter": "python",
   "pygments_lexer": "ipython3",
   "version": "3.11.10"
  }
 },
 "nbformat": 4,
 "nbformat_minor": 2
}
